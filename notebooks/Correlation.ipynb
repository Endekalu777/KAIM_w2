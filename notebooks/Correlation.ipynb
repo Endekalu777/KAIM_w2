{
 "cells": [
  {
   "cell_type": "code",
   "execution_count": 46,
   "metadata": {},
   "outputs": [],
   "source": [
    "import sys\n",
    "import os\n",
    "\n",
    "# Add the project root directory to sys.path\n",
    "sys.path.append(os.path.abspath(os.path.join('..')))"
   ]
  },
  {
   "cell_type": "code",
   "execution_count": 47,
   "metadata": {},
   "outputs": [],
   "source": [
    "import pandas as pd\n",
    "import matplotlib.pyplot as plt\n",
    "import seaborn as sns"
   ]
  },
  {
   "cell_type": "code",
   "execution_count": 48,
   "metadata": {},
   "outputs": [],
   "source": [
    "apple = pd.read_csv(\"../Data/AAPL_historical_data.csv\")\n",
    "amazon = pd.read_csv(\"../Data/AMZN_historical_data.csv\")\n",
    "google = pd.read_csv(\"../Data/GOOG_historical_data.csv\")\n",
    "meta = pd.read_csv(\"../Data/META_historical_data.csv\")\n",
    "microsoft = pd.read_csv(\"../Data/MSFT_historical_data.csv\")\n",
    "nividia = pd.read_csv(\"../Data/NVDA_historical_data.csv\")\n",
    "tesla = pd.read_csv(\"../Data/TSLA_historical_data.csv\")"
   ]
  },
  {
   "cell_type": "code",
   "execution_count": 49,
   "metadata": {},
   "outputs": [],
   "source": [
    "combined_df = pd.merge(apple, amazon, on='Date', suffixes=('_apple', '_amazon'))\n",
    "combined_df = pd.merge(combined_df, google, on='Date', suffixes=('', '_google'))\n",
    "combined_df = pd.merge(combined_df, meta, on='Date', suffixes=('', '_meta'))\n",
    "combined_df = pd.merge(combined_df, microsoft, on='Date', suffixes=('', '_microsoft'))\n",
    "combined_df = pd.merge(combined_df, nividia, on='Date', suffixes=('', '_nvidia'))\n",
    "combined_df = pd.merge(combined_df, tesla, on='Date', suffixes=('', '_tesla'))\n"
   ]
  },
  {
   "cell_type": "code",
   "execution_count": 50,
   "metadata": {},
   "outputs": [
    {
     "data": {
      "text/plain": [
       "(2926, 57)"
      ]
     },
     "execution_count": 50,
     "metadata": {},
     "output_type": "execute_result"
    }
   ],
   "source": [
    "combined_df.shape"
   ]
  },
  {
   "cell_type": "code",
   "execution_count": 51,
   "metadata": {},
   "outputs": [],
   "source": [
    "raw_analyst = pd.read_csv(\"../Data/raw_analyst_ratings.csv\")"
   ]
  },
  {
   "cell_type": "code",
   "execution_count": 52,
   "metadata": {},
   "outputs": [
    {
     "data": {
      "text/plain": [
       "Index(['Unnamed: 0', 'headline', 'url', 'publisher', 'date', 'stock'], dtype='object')"
      ]
     },
     "execution_count": 52,
     "metadata": {},
     "output_type": "execute_result"
    }
   ],
   "source": [
    "raw_analyst.columns"
   ]
  },
  {
   "cell_type": "code",
   "execution_count": 55,
   "metadata": {},
   "outputs": [
    {
     "data": {
      "text/plain": [
       "(1407328, 6)"
      ]
     },
     "execution_count": 55,
     "metadata": {},
     "output_type": "execute_result"
    }
   ],
   "source": [
    "raw_analyst.shape"
   ]
  },
  {
   "cell_type": "code",
   "execution_count": 53,
   "metadata": {},
   "outputs": [],
   "source": [
    "raw_analyst['date'] = pd.to_datetime(raw_analyst['date'], errors='coerce', utc='True')"
   ]
  },
  {
   "cell_type": "code",
   "execution_count": 54,
   "metadata": {},
   "outputs": [
    {
     "data": {
      "text/plain": [
       "Unnamed: 0          0\n",
       "headline            0\n",
       "url                 0\n",
       "publisher           0\n",
       "date          1351341\n",
       "stock               0\n",
       "dtype: int64"
      ]
     },
     "execution_count": 54,
     "metadata": {},
     "output_type": "execute_result"
    }
   ],
   "source": [
    "raw_analyst.isnull().sum()"
   ]
  },
  {
   "cell_type": "code",
   "execution_count": null,
   "metadata": {},
   "outputs": [],
   "source": []
  },
  {
   "cell_type": "code",
   "execution_count": null,
   "metadata": {},
   "outputs": [],
   "source": []
  }
 ],
 "metadata": {
  "kernelspec": {
   "display_name": "KAIMw1",
   "language": "python",
   "name": "python3"
  },
  "language_info": {
   "codemirror_mode": {
    "name": "ipython",
    "version": 3
   },
   "file_extension": ".py",
   "mimetype": "text/x-python",
   "name": "python",
   "nbconvert_exporter": "python",
   "pygments_lexer": "ipython3",
   "version": "3.12.5"
  }
 },
 "nbformat": 4,
 "nbformat_minor": 2
}
