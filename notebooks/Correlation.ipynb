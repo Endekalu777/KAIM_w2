{
 "cells": [
  {
   "cell_type": "code",
   "execution_count": 2,
   "metadata": {},
   "outputs": [],
   "source": [
    "import sys\n",
    "import os\n",
    "# Add the project root directory to sys.path\n",
    "sys.path.append(os.path.abspath(os.path.join('..')))"
   ]
  },
  {
   "cell_type": "code",
   "execution_count": 3,
   "metadata": {},
   "outputs": [],
   "source": [
    "import pandas as pd\n",
    "from textblob   import TextBlob\n",
    "import sys\n",
    "import os\n",
    "from scripts.correlation import load_stock_data, custom_aggregation, get_sentiment_score"
   ]
  },
  {
   "cell_type": "code",
   "execution_count": 4,
   "metadata": {},
   "outputs": [],
   "source": [
    "stock_price, news_article = load_stock_data(\"../Data\", \"../Data/news_article.csv\")"
   ]
  },
  {
   "cell_type": "code",
   "execution_count": 5,
   "metadata": {},
   "outputs": [],
   "source": [
    "merged_df = custom_aggregation(news_article, stock_price)"
   ]
  },
  {
   "cell_type": "code",
   "execution_count": 6,
   "metadata": {},
   "outputs": [
    {
     "data": {
      "text/plain": [
       "(18178, 13)"
      ]
     },
     "execution_count": 6,
     "metadata": {},
     "output_type": "execute_result"
    }
   ],
   "source": [
    "merged_df.shape"
   ]
  },
  {
   "cell_type": "code",
   "execution_count": 7,
   "metadata": {},
   "outputs": [
    {
     "data": {
      "text/html": [
       "<div>\n",
       "<style scoped>\n",
       "    .dataframe tbody tr th:only-of-type {\n",
       "        vertical-align: middle;\n",
       "    }\n",
       "\n",
       "    .dataframe tbody tr th {\n",
       "        vertical-align: top;\n",
       "    }\n",
       "\n",
       "    .dataframe thead th {\n",
       "        text-align: right;\n",
       "    }\n",
       "</style>\n",
       "<table border=\"1\" class=\"dataframe\">\n",
       "  <thead>\n",
       "    <tr style=\"text-align: right;\">\n",
       "      <th></th>\n",
       "      <th>Date</th>\n",
       "      <th>Open</th>\n",
       "      <th>High</th>\n",
       "      <th>Low</th>\n",
       "      <th>Close</th>\n",
       "      <th>Adj Close</th>\n",
       "      <th>Volume</th>\n",
       "      <th>Dividends</th>\n",
       "      <th>Stock Splits</th>\n",
       "      <th>headline</th>\n",
       "      <th>publisher</th>\n",
       "      <th>url</th>\n",
       "      <th>stock</th>\n",
       "    </tr>\n",
       "  </thead>\n",
       "  <tbody>\n",
       "    <tr>\n",
       "      <th>18173</th>\n",
       "      <td>2020-06-05</td>\n",
       "      <td>58.522667</td>\n",
       "      <td>59.101334</td>\n",
       "      <td>57.746666</td>\n",
       "      <td>59.043999</td>\n",
       "      <td>59.043999</td>\n",
       "      <td>117178500</td>\n",
       "      <td>0.0</td>\n",
       "      <td>0.0</td>\n",
       "      <td>Stocks That Hit 52-Week Highs On Friday | 10 B...</td>\n",
       "      <td>Benzinga Insights, Benzinga Newsdesk, Benzinga...</td>\n",
       "      <td>https://www.benzinga.com/news/20/06/16190091/s...</td>\n",
       "      <td>A, AA, AAN, AAWW, ABC, ABMD, ABR, ACC, ACGL, A...</td>\n",
       "    </tr>\n",
       "    <tr>\n",
       "      <th>18174</th>\n",
       "      <td>2020-06-08</td>\n",
       "      <td>61.266666</td>\n",
       "      <td>63.333332</td>\n",
       "      <td>60.610668</td>\n",
       "      <td>63.327999</td>\n",
       "      <td>63.327999</td>\n",
       "      <td>212620500</td>\n",
       "      <td>0.0</td>\n",
       "      <td>0.0</td>\n",
       "      <td>Alcoa Seeing Better July Aluminum Shipments Am...</td>\n",
       "      <td>Benzinga Newsdesk, Benzinga Newsdesk, Luke J J...</td>\n",
       "      <td>https://www.benzinga.com/news/20/06/16203021/a...</td>\n",
       "      <td>AA, AAL, AAN, AAWW, ABBV, ABEV, ABR, ACOR, ACT...</td>\n",
       "    </tr>\n",
       "    <tr>\n",
       "      <th>18175</th>\n",
       "      <td>2020-06-09</td>\n",
       "      <td>62.667332</td>\n",
       "      <td>63.629333</td>\n",
       "      <td>61.595333</td>\n",
       "      <td>62.711334</td>\n",
       "      <td>62.711334</td>\n",
       "      <td>170823000</td>\n",
       "      <td>0.0</td>\n",
       "      <td>0.0</td>\n",
       "      <td>Shares of several basic material companies are...</td>\n",
       "      <td>Benzinga Newsdesk, Benzinga Newsdesk, Tanzeel ...</td>\n",
       "      <td>https://www.benzinga.com/wiim/20/06/16213027/s...</td>\n",
       "      <td>AA, AAL, AAPL, ACGL, ACY, AEE, AER, AES, AEY, ...</td>\n",
       "    </tr>\n",
       "    <tr>\n",
       "      <th>18176</th>\n",
       "      <td>2020-06-10</td>\n",
       "      <td>66.125336</td>\n",
       "      <td>68.498665</td>\n",
       "      <td>65.500000</td>\n",
       "      <td>68.336670</td>\n",
       "      <td>68.336670</td>\n",
       "      <td>278451000</td>\n",
       "      <td>0.0</td>\n",
       "      <td>0.0</td>\n",
       "      <td>International Air Travel On U.S. Airlines Fell...</td>\n",
       "      <td>Benzinga Newsdesk, Benzinga Newsdesk, JJ Kinah...</td>\n",
       "      <td>https://www.benzinga.com/news/20/06/16223284/i...</td>\n",
       "      <td>AAL, AAN, AAP, AAPL, ABBV, ABIO, ACGL, ACRX, A...</td>\n",
       "    </tr>\n",
       "    <tr>\n",
       "      <th>18177</th>\n",
       "      <td>2020-06-11</td>\n",
       "      <td>66.013336</td>\n",
       "      <td>67.930664</td>\n",
       "      <td>64.800003</td>\n",
       "      <td>64.856003</td>\n",
       "      <td>64.856003</td>\n",
       "      <td>238747500</td>\n",
       "      <td>0.0</td>\n",
       "      <td>0.0</td>\n",
       "      <td>Johnson &amp; Johnson To Start Coronavirus Vaccine...</td>\n",
       "      <td>Neer Varshney, Lisa Levin, Charles Gross, Benz...</td>\n",
       "      <td>https://www.benzinga.com/general/biotech/20/06...</td>\n",
       "      <td>AZN, CANF, CHK, CHS, CNHI, DHI, DPW, EOG, EPR,...</td>\n",
       "    </tr>\n",
       "  </tbody>\n",
       "</table>\n",
       "</div>"
      ],
      "text/plain": [
       "             Date       Open       High        Low      Close  Adj Close  \\\n",
       "18173  2020-06-05  58.522667  59.101334  57.746666  59.043999  59.043999   \n",
       "18174  2020-06-08  61.266666  63.333332  60.610668  63.327999  63.327999   \n",
       "18175  2020-06-09  62.667332  63.629333  61.595333  62.711334  62.711334   \n",
       "18176  2020-06-10  66.125336  68.498665  65.500000  68.336670  68.336670   \n",
       "18177  2020-06-11  66.013336  67.930664  64.800003  64.856003  64.856003   \n",
       "\n",
       "          Volume  Dividends  Stock Splits  \\\n",
       "18173  117178500        0.0           0.0   \n",
       "18174  212620500        0.0           0.0   \n",
       "18175  170823000        0.0           0.0   \n",
       "18176  278451000        0.0           0.0   \n",
       "18177  238747500        0.0           0.0   \n",
       "\n",
       "                                                headline  \\\n",
       "18173  Stocks That Hit 52-Week Highs On Friday | 10 B...   \n",
       "18174  Alcoa Seeing Better July Aluminum Shipments Am...   \n",
       "18175  Shares of several basic material companies are...   \n",
       "18176  International Air Travel On U.S. Airlines Fell...   \n",
       "18177  Johnson & Johnson To Start Coronavirus Vaccine...   \n",
       "\n",
       "                                               publisher  \\\n",
       "18173  Benzinga Insights, Benzinga Newsdesk, Benzinga...   \n",
       "18174  Benzinga Newsdesk, Benzinga Newsdesk, Luke J J...   \n",
       "18175  Benzinga Newsdesk, Benzinga Newsdesk, Tanzeel ...   \n",
       "18176  Benzinga Newsdesk, Benzinga Newsdesk, JJ Kinah...   \n",
       "18177  Neer Varshney, Lisa Levin, Charles Gross, Benz...   \n",
       "\n",
       "                                                     url  \\\n",
       "18173  https://www.benzinga.com/news/20/06/16190091/s...   \n",
       "18174  https://www.benzinga.com/news/20/06/16203021/a...   \n",
       "18175  https://www.benzinga.com/wiim/20/06/16213027/s...   \n",
       "18176  https://www.benzinga.com/news/20/06/16223284/i...   \n",
       "18177  https://www.benzinga.com/general/biotech/20/06...   \n",
       "\n",
       "                                                   stock  \n",
       "18173  A, AA, AAN, AAWW, ABC, ABMD, ABR, ACC, ACGL, A...  \n",
       "18174  AA, AAL, AAN, AAWW, ABBV, ABEV, ABR, ACOR, ACT...  \n",
       "18175  AA, AAL, AAPL, ACGL, ACY, AEE, AER, AES, AEY, ...  \n",
       "18176  AAL, AAN, AAP, AAPL, ABBV, ABIO, ACGL, ACRX, A...  \n",
       "18177  AZN, CANF, CHK, CHS, CNHI, DHI, DPW, EOG, EPR,...  "
      ]
     },
     "execution_count": 7,
     "metadata": {},
     "output_type": "execute_result"
    }
   ],
   "source": [
    "merged_df.tail()"
   ]
  },
  {
   "cell_type": "code",
   "execution_count": 8,
   "metadata": {},
   "outputs": [],
   "source": [
    "# Apply sentiment analysis to headlines\n",
    "merged_df['sentiment_score'] = merged_df['headline'].apply(get_sentiment_score)"
   ]
  },
  {
   "cell_type": "code",
   "execution_count": 9,
   "metadata": {},
   "outputs": [],
   "source": [
    "# Group by date and calculate the average sentiment score\n",
    "daily_sentiment = merged_df.groupby('Date')['sentiment_score'].mean().reset_index()"
   ]
  },
  {
   "cell_type": "code",
   "execution_count": 10,
   "metadata": {},
   "outputs": [],
   "source": [
    "merged_df['daily_return'] = merged_df['Close'].pct_change()"
   ]
  },
  {
   "cell_type": "code",
   "execution_count": 11,
   "metadata": {},
   "outputs": [],
   "source": [
    "# Merge daily sentiment with daily stock returns\n",
    "merged_daily_df = pd.merge(daily_sentiment, merged_df[['Date', 'daily_return']], on='Date', how='inner')\n",
    "merged_daily_df.drop_duplicates(subset='Date', inplace=True)"
   ]
  },
  {
   "cell_type": "code",
   "execution_count": 12,
   "metadata": {},
   "outputs": [
    {
     "name": "stdout",
     "output_type": "stream",
     "text": [
      "Correlation between sentiment scores and stock daily returns: 0.1017\n"
     ]
    }
   ],
   "source": [
    "# Calculate correlation\n",
    "correlation = merged_daily_df['sentiment_score'].corr(merged_daily_df['daily_return'])\n",
    "print(f\"Correlation between sentiment scores and stock daily returns: {correlation:.4f}\")"
   ]
  }
 ],
 "metadata": {
  "kernelspec": {
   "display_name": "KAIMw1",
   "language": "python",
   "name": "python3"
  },
  "language_info": {
   "codemirror_mode": {
    "name": "ipython",
    "version": 3
   },
   "file_extension": ".py",
   "mimetype": "text/x-python",
   "name": "python",
   "nbconvert_exporter": "python",
   "pygments_lexer": "ipython3",
   "version": "3.12.5"
  }
 },
 "nbformat": 4,
 "nbformat_minor": 2
}
